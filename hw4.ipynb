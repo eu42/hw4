{
 "cells": [
  {
   "cell_type": "markdown",
   "metadata": {},
   "source": [
    "** Question 25.3 **\n",
    "\n",
    "Suppose we have a $3 \\times 3$ matrix and wish to introduce zeros by left and/or right multiplications by unitary matrices $Q_j$ such as Householder reflectors or Givens rotations. Consider the following three matrix structures:\n",
    "\n",
    "(a) $\\begin{bmatrix} x & x & 0 \\\\ 0 & x & x \\\\ 0 & 0 & x \\end{bmatrix}$,\n",
    "(b) $\\begin{bmatrix} x & x & 0 \\\\ x & 0 & x \\\\ 0 & x & x \\end{bmatrix}$,\n",
    "(c) $\\begin{bmatrix} x & x & 0 \\\\ 0 & 0 & x \\\\ 0 & 0 & x \\end{bmatrix}$.\n",
    "\n",
    "For each one, decide which of the following situations holds, and justify your claim.\n",
    "\n",
    "(i) Can be obtained by a sequence of left multiplications by matrices $Q_j$;\n",
    "\n",
    "(ii) Not (i), but can be obtained by a sequence of left- and right-multiplications by matrices $Q_j$;\n",
    "\n",
    "(iii) Cannot be obtained by any sequence of left- and right- multiplications by matrices $Q_j$."
   ]
  },
  {
   "cell_type": "markdown",
   "metadata": {},
   "source": [
    "** Answer **\n",
    "\n",
    "** a) **\n",
    "\n",
    "We cannot obtain given matrix using only left multiplications. The problem arises due to $0$ at $(1, 3)$. A Householder reflector is only able to introduce zeros to lower triangular entries. Similarly, Givens rotation is also not enough to add a zero to $(1, 3)$ without disturbing rest of the matrix. So, (i) is not the answer.\n",
    "\n",
    "When right-multiplications are involved, we can derive the given matrix.\n",
    "\n",
    "Suppose input matrix is $A = \\begin{bmatrix} x & x & x \\\\ x & x & x \\\\ x & x & x \\end{bmatrix}$\n",
    "\n",
    "$$ A_1 = Q_2 Q_1 A Q_3^* $$\n",
    "\n",
    "where;\n",
    "\n",
    "* $Q_1$ is Householder reflector generated with $1^{st}$ column of A which introduces zeros in column one.\n",
    "* $Q_2$ is Givens rotation generated with $(2, 2)$ and $(3, 2)$ entries which introduces zero at (3, 2).\n",
    "* $Q_3$ is again a Givens rotation generated with $(1, 2)$ and $(1, 3)$ entries which introduces zero at (1, 3).\n",
    "\n",
    "Thus, answer is (ii).\n",
    "\n",
    "** b) **\n",
    "\n",
    "Considering that entries with $x$ can actually hold a value of zero, you can see that matrices in part (a) and (b) are not too different.\n",
    "\n",
    "We can obtain given matrix with permuting $1^{st}$ and $2^{nd}$ columns of the matrix in part (a). Thus, (ii) is also valid for this part.\n",
    "\n",
    "** c) **\n",
    "\n",
    "Since given matrix is singular, it is not possible to obtain it from a nonsingular matrix using only unitary matrices. Thus, the answer is (iii)."
   ]
  }
 ],
 "metadata": {
  "kernelspec": {
   "display_name": "Octave",
   "language": "octave",
   "name": "octave"
  },
  "language_info": {
   "file_extension": ".m",
   "help_links": [
    {
     "text": "GNU Octave",
     "url": "https://www.gnu.org/software/octave/support.html"
    },
    {
     "text": "Octave Kernel",
     "url": "https://github.com/Calysto/octave_kernel"
    },
    {
     "text": "MetaKernel Magics",
     "url": "https://github.com/calysto/metakernel/blob/master/metakernel/magics/README.md"
    }
   ],
   "mimetype": "text/x-octave",
   "name": "octave",
   "version": "3.8.1"
  }
 },
 "nbformat": 4,
 "nbformat_minor": 2
}
